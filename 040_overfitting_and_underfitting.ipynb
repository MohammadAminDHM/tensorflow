{
  "nbformat": 4,
  "nbformat_minor": 0,
  "metadata": {
    "kernelspec": {
      "display_name": "Python 3",
      "language": "python",
      "name": "python3"
    },
    "language_info": {
      "codemirror_mode": {
        "name": "ipython",
        "version": 3
      },
      "file_extension": ".py",
      "mimetype": "text/x-python",
      "name": "python",
      "nbconvert_exporter": "python",
      "pygments_lexer": "ipython3",
      "version": "3.5.2"
    },
    "colab": {
      "name": "4.4-overfitting-and-underfitting.ipynb",
      "provenance": [],
      "toc_visible": true
    },
    "accelerator": "GPU",
    "gpuClass": "standard"
  },
  "cells": [
    {
      "cell_type": "markdown",
      "metadata": {
        "id": "9FfP8SmrxoJ1"
      },
      "source": [
        "# Overfitting and Underfitting\n",
        "\n",
        "**Author:** [FarrokhKarimi](https://github.com/farrokhkarimi)  \n",
        "**Note:** For this notebook the best runtime type is GPU"
      ]
    },
    {
      "cell_type": "code",
      "metadata": {
        "id": "Wbm06nM1xfi_",
        "colab": {
          "base_uri": "https://localhost:8080/",
          "height": 36
        },
        "outputId": "deb9945b-e413-4a68-8d9f-d12c224c7a8a"
      },
      "source": [
        "import keras\n",
        "keras.__version__"
      ],
      "execution_count": 1,
      "outputs": [
        {
          "output_type": "execute_result",
          "data": {
            "text/plain": [
              "'2.8.0'"
            ],
            "application/vnd.google.colaboratory.intrinsic+json": {
              "type": "string"
            }
          },
          "metadata": {},
          "execution_count": 1
        }
      ]
    },
    {
      "cell_type": "markdown",
      "metadata": {
        "id": "zKaJE-JLxfjS"
      },
      "source": [
        "# Overfitting and underfitting\n",
        "\n",
        "In all the examples we saw in the previous chapter -- movie review sentiment prediction, topic classification, and house price regression -- \n",
        "we could notice that the performance of our model on the held-out validation data would always peak after a few epochs and would then start \n",
        "degrading, i.e. our model would quickly start to _overfit_ to the training data. Overfitting happens in every single machine learning \n",
        "problem. Learning how to deal with overfitting is essential to mastering machine learning.\n",
        "\n",
        "The fundamental issue in machine learning is the tension between optimization and generalization. \"**Optimization**\" refers to the process of \n",
        "adjusting a model to get the best performance possible on the training data (the \"learning\" in \"machine learning\"), while \"**generalization**\" \n",
        "refers to how well the trained model would perform on data it has never seen before. The goal of the game is to get good generalization, of \n",
        "course, but you do not control generalization; you can only adjust the model based on its training data.\n",
        "\n",
        "At the beginning of training, optimization and generalization are correlated: the lower your loss on training data, the lower your loss on \n",
        "test data. While this is happening, your model is said to be _under-fit_: there is still progress to be made; the network hasn't yet \n",
        "modeled all relevant patterns in the training data. But after a certain number of iterations on the training data, generalization stops \n",
        "improving, validation metrics stall then start degrading: the model is then starting to over-fit, i.e. is it starting to learn patterns \n",
        "that are specific to the training data but that are misleading or irrelevant when it comes to new data.\n",
        "\n",
        "To prevent a model from learning misleading or irrelevant patterns found in the training data, _the best solution is of course to get \n",
        "more training data_. A model trained on more data will naturally generalize better. When that is no longer possible, the next best solution \n",
        "is to modulate the quantity of information that your model is allowed to store, or to add constraints on what information it is allowed to \n",
        "store. If a network can only afford to memorize a small number of patterns, the optimization process will force it to focus on the most \n",
        "prominent patterns, which have a better chance of generalizing well.\n",
        "\n",
        "The processing of fighting overfitting in this way is called _**regularization**_. Let's review some of the most common regularization \n",
        "techniques, and let's apply them in practice to improve our movie classification model from  the previous chapter."
      ]
    },
    {
      "cell_type": "markdown",
      "metadata": {
        "id": "lkiQBbDYxfjU"
      },
      "source": [
        "Note: in this notebook we will be using the IMDB test set as our validation set. It doesn't matter in this context."
      ]
    },
    {
      "cell_type": "code",
      "metadata": {
        "id": "TqBTqIrFxfjV"
      },
      "source": [
        "from keras.datasets import imdb\n",
        "import numpy as np\n",
        "\n",
        "(train_data, train_labels), (test_data, test_labels) = imdb.load_data(num_words=10000)\n",
        "\n",
        "def vectorize_sequences(sequences, dimension=10000):\n",
        "    # Create an all-zero matrix of shape (len(sequences), dimension)\n",
        "    results = np.zeros((len(sequences), dimension))\n",
        "    for i, sequence in enumerate(sequences):\n",
        "        results[i, sequence] = 1.  # set specific indices of results[i] to 1s\n",
        "    return results\n",
        "\n",
        "# Our vectorized training data\n",
        "x_train = vectorize_sequences(train_data)\n",
        "# Our vectorized test data\n",
        "x_test = vectorize_sequences(test_data)\n",
        "# Our vectorized labels\n",
        "y_train = np.asarray(train_labels).astype('float32')\n",
        "y_test = np.asarray(test_labels).astype('float32')"
      ],
      "execution_count": 2,
      "outputs": []
    },
    {
      "cell_type": "markdown",
      "metadata": {
        "id": "I3M7dJ7Hxfjd"
      },
      "source": [
        "# Fighting overfitting\n",
        "\n",
        "## Reducing the network's size\n",
        "\n",
        "\n",
        "The simplest way to prevent overfitting is to reduce the size of the model, i.e. the number of learnable parameters in the model (which is \n",
        "determined by the number of layers and the number of units per layer). In deep learning, the number of learnable parameters in a model is \n",
        "often referred to as the model's \"capacity\". Intuitively, a model with more parameters will have more \"memorization capacity\" and therefore \n",
        "will be able to easily learn a perfect dictionary-like mapping between training samples and their targets, a mapping without any \n",
        "generalization power. For instance, a model with 500,000 binary parameters could easily be made to learn the class of every digits in the \n",
        "MNIST training set: we would only need 10 binary parameters for each of the 50,000 digits. Such a model would be useless for classifying \n",
        "new digit samples. Always keep this in mind: deep learning models tend to be good at fitting to the training data, but the real challenge \n",
        "is generalization, not fitting.\n",
        "\n",
        "On the other hand, if the network has limited memorization resources, it will not be able to learn this mapping as easily, and thus, in \n",
        "order to minimize its loss, it will have to resort to learning compressed representations that have predictive power regarding the targets \n",
        "-- precisely the type of representations that we are interested in. At the same time, keep in mind that you should be using models that have \n",
        "enough parameters that they won't be underfitting: your model shouldn't be starved for memorization resources. There is a compromise to be \n",
        "found between \"too much capacity\" and \"not enough capacity\".\n",
        "\n",
        "Unfortunately, there is no magical formula to determine what the right number of layers is, or what the right size for each layer is. You \n",
        "will have to evaluate an array of different architectures (on your validation set, not on your test set, of course) in order to find the \n",
        "right model size for your data. The general workflow to find an appropriate model size is to start with relatively few layers and \n",
        "parameters, and start increasing the size of the layers or adding new layers until you see diminishing returns with regard to the \n",
        "validation loss.\n",
        "\n",
        "Let's try this on our movie review classification network. Our original network was as such:"
      ]
    },
    {
      "cell_type": "code",
      "metadata": {
        "id": "kXwuNUuKxfje"
      },
      "source": [
        "from keras import models\n",
        "from keras import layers\n",
        "\n",
        "original_model = models.Sequential()\n",
        "original_model.add(layers.Dense(16, activation='relu', input_shape=(10000,)))\n",
        "original_model.add(layers.Dense(16, activation='relu'))\n",
        "original_model.add(layers.Dense(1, activation='sigmoid'))\n",
        "\n",
        "original_model.compile(optimizer='rmsprop',\n",
        "                       loss='binary_crossentropy',\n",
        "                       metrics=['acc'])"
      ],
      "execution_count": 3,
      "outputs": []
    },
    {
      "cell_type": "markdown",
      "metadata": {
        "id": "BtPTAocoxfjj"
      },
      "source": [
        "Now let's try to replace it with this smaller network:"
      ]
    },
    {
      "cell_type": "code",
      "metadata": {
        "id": "PVzmnxXixfjn"
      },
      "source": [
        "smaller_model = models.Sequential()\n",
        "smaller_model.add(layers.Dense(4, activation='relu', input_shape=(10000,)))\n",
        "smaller_model.add(layers.Dense(4, activation='relu'))\n",
        "smaller_model.add(layers.Dense(1, activation='sigmoid'))\n",
        "\n",
        "smaller_model.compile(optimizer='rmsprop',\n",
        "                      loss='binary_crossentropy',\n",
        "                      metrics=['acc'])"
      ],
      "execution_count": 4,
      "outputs": []
    },
    {
      "cell_type": "markdown",
      "metadata": {
        "id": "u2B4WEhTxfjy"
      },
      "source": [
        "\n",
        "Here's a comparison of the validation losses of the original network and the smaller network. The dots are the validation loss values of \n",
        "the smaller network, and the crosses are the initial network (remember: a lower validation loss signals a better model)."
      ]
    },
    {
      "cell_type": "code",
      "metadata": {
        "id": "1rmj9ucgxfjz",
        "colab": {
          "base_uri": "https://localhost:8080/"
        },
        "outputId": "62a49fc9-821c-4ed6-89f5-9c31eb896934"
      },
      "source": [
        "original_hist = original_model.fit(x_train, y_train,\n",
        "                                   epochs=20,\n",
        "                                   batch_size=512,\n",
        "                                   validation_data=(x_test, y_test))"
      ],
      "execution_count": 5,
      "outputs": [
        {
          "output_type": "stream",
          "name": "stdout",
          "text": [
            "Epoch 1/20\n",
            "49/49 [==============================] - 5s 52ms/step - loss: 0.4604 - acc: 0.8288 - val_loss: 0.3474 - val_acc: 0.8795\n",
            "Epoch 2/20\n",
            "49/49 [==============================] - 1s 23ms/step - loss: 0.2654 - acc: 0.9086 - val_loss: 0.2888 - val_acc: 0.8873\n",
            "Epoch 3/20\n",
            "49/49 [==============================] - 1s 22ms/step - loss: 0.2045 - acc: 0.9272 - val_loss: 0.3030 - val_acc: 0.8775\n",
            "Epoch 4/20\n",
            "49/49 [==============================] - 1s 22ms/step - loss: 0.1704 - acc: 0.9413 - val_loss: 0.2949 - val_acc: 0.8824\n",
            "Epoch 5/20\n",
            "49/49 [==============================] - 1s 22ms/step - loss: 0.1469 - acc: 0.9486 - val_loss: 0.3066 - val_acc: 0.8808\n",
            "Epoch 6/20\n",
            "49/49 [==============================] - 1s 22ms/step - loss: 0.1276 - acc: 0.9566 - val_loss: 0.3428 - val_acc: 0.8732\n",
            "Epoch 7/20\n",
            "49/49 [==============================] - 1s 22ms/step - loss: 0.1111 - acc: 0.9630 - val_loss: 0.3563 - val_acc: 0.8717\n",
            "Epoch 8/20\n",
            "49/49 [==============================] - 1s 22ms/step - loss: 0.0984 - acc: 0.9678 - val_loss: 0.3854 - val_acc: 0.8692\n",
            "Epoch 9/20\n",
            "49/49 [==============================] - 1s 22ms/step - loss: 0.0852 - acc: 0.9731 - val_loss: 0.4019 - val_acc: 0.8676\n",
            "Epoch 10/20\n",
            "49/49 [==============================] - 1s 22ms/step - loss: 0.0778 - acc: 0.9756 - val_loss: 0.4278 - val_acc: 0.8662\n",
            "Epoch 11/20\n",
            "49/49 [==============================] - 1s 22ms/step - loss: 0.0644 - acc: 0.9802 - val_loss: 0.4694 - val_acc: 0.8613\n",
            "Epoch 12/20\n",
            "49/49 [==============================] - 1s 23ms/step - loss: 0.0594 - acc: 0.9820 - val_loss: 0.4969 - val_acc: 0.8594\n",
            "Epoch 13/20\n",
            "49/49 [==============================] - 1s 22ms/step - loss: 0.0471 - acc: 0.9876 - val_loss: 0.5552 - val_acc: 0.8504\n",
            "Epoch 14/20\n",
            "49/49 [==============================] - 1s 22ms/step - loss: 0.0410 - acc: 0.9890 - val_loss: 0.5923 - val_acc: 0.8493\n",
            "Epoch 15/20\n",
            "49/49 [==============================] - 1s 23ms/step - loss: 0.0344 - acc: 0.9910 - val_loss: 0.6001 - val_acc: 0.8568\n",
            "Epoch 16/20\n",
            "49/49 [==============================] - 1s 22ms/step - loss: 0.0296 - acc: 0.9922 - val_loss: 0.6444 - val_acc: 0.8510\n",
            "Epoch 17/20\n",
            "49/49 [==============================] - 1s 22ms/step - loss: 0.0249 - acc: 0.9940 - val_loss: 0.6749 - val_acc: 0.8541\n",
            "Epoch 18/20\n",
            "49/49 [==============================] - 1s 23ms/step - loss: 0.0210 - acc: 0.9948 - val_loss: 0.7116 - val_acc: 0.8525\n",
            "Epoch 19/20\n",
            "49/49 [==============================] - 1s 22ms/step - loss: 0.0158 - acc: 0.9960 - val_loss: 0.7580 - val_acc: 0.8503\n",
            "Epoch 20/20\n",
            "49/49 [==============================] - 1s 25ms/step - loss: 0.0126 - acc: 0.9974 - val_loss: 0.7911 - val_acc: 0.8522\n"
          ]
        }
      ]
    },
    {
      "cell_type": "code",
      "metadata": {
        "id": "y2KG92-Xxfj7",
        "colab": {
          "base_uri": "https://localhost:8080/"
        },
        "outputId": "1eceddc3-6bce-45ab-de74-fe35aff15b79"
      },
      "source": [
        "smaller_model_hist = smaller_model.fit(x_train, y_train,\n",
        "                                       epochs=20,\n",
        "                                       batch_size=512,\n",
        "                                       validation_data=(x_test, y_test))"
      ],
      "execution_count": 6,
      "outputs": [
        {
          "output_type": "stream",
          "name": "stdout",
          "text": [
            "Epoch 1/20\n",
            "49/49 [==============================] - 2s 41ms/step - loss: 0.6182 - acc: 0.7089 - val_loss: 0.5572 - val_acc: 0.8360\n",
            "Epoch 2/20\n",
            "49/49 [==============================] - 1s 23ms/step - loss: 0.4965 - acc: 0.8465 - val_loss: 0.4799 - val_acc: 0.8770\n",
            "Epoch 3/20\n",
            "49/49 [==============================] - 1s 22ms/step - loss: 0.4074 - acc: 0.8956 - val_loss: 0.4041 - val_acc: 0.8785\n",
            "Epoch 4/20\n",
            "49/49 [==============================] - 1s 23ms/step - loss: 0.3234 - acc: 0.9192 - val_loss: 0.3457 - val_acc: 0.8834\n",
            "Epoch 5/20\n",
            "49/49 [==============================] - 1s 23ms/step - loss: 0.2569 - acc: 0.9308 - val_loss: 0.3089 - val_acc: 0.8871\n",
            "Epoch 6/20\n",
            "49/49 [==============================] - 1s 22ms/step - loss: 0.2130 - acc: 0.9380 - val_loss: 0.2918 - val_acc: 0.8870\n",
            "Epoch 7/20\n",
            "49/49 [==============================] - 1s 23ms/step - loss: 0.1846 - acc: 0.9445 - val_loss: 0.2878 - val_acc: 0.8867\n",
            "Epoch 8/20\n",
            "49/49 [==============================] - 1s 22ms/step - loss: 0.1654 - acc: 0.9492 - val_loss: 0.2923 - val_acc: 0.8843\n",
            "Epoch 9/20\n",
            "49/49 [==============================] - 1s 22ms/step - loss: 0.1503 - acc: 0.9542 - val_loss: 0.2948 - val_acc: 0.8832\n",
            "Epoch 10/20\n",
            "49/49 [==============================] - 1s 22ms/step - loss: 0.1380 - acc: 0.9573 - val_loss: 0.3039 - val_acc: 0.8812\n",
            "Epoch 11/20\n",
            "49/49 [==============================] - 1s 22ms/step - loss: 0.1279 - acc: 0.9614 - val_loss: 0.3136 - val_acc: 0.8794\n",
            "Epoch 12/20\n",
            "49/49 [==============================] - 1s 22ms/step - loss: 0.1182 - acc: 0.9642 - val_loss: 0.3227 - val_acc: 0.8768\n",
            "Epoch 13/20\n",
            "49/49 [==============================] - 1s 22ms/step - loss: 0.1101 - acc: 0.9678 - val_loss: 0.3376 - val_acc: 0.8756\n",
            "Epoch 14/20\n",
            "49/49 [==============================] - 1s 22ms/step - loss: 0.1030 - acc: 0.9693 - val_loss: 0.3470 - val_acc: 0.8741\n",
            "Epoch 15/20\n",
            "49/49 [==============================] - 1s 22ms/step - loss: 0.0960 - acc: 0.9711 - val_loss: 0.3600 - val_acc: 0.8722\n",
            "Epoch 16/20\n",
            "49/49 [==============================] - 1s 22ms/step - loss: 0.0897 - acc: 0.9745 - val_loss: 0.3771 - val_acc: 0.8699\n",
            "Epoch 17/20\n",
            "49/49 [==============================] - 1s 23ms/step - loss: 0.0839 - acc: 0.9760 - val_loss: 0.3880 - val_acc: 0.8679\n",
            "Epoch 18/20\n",
            "49/49 [==============================] - 1s 22ms/step - loss: 0.0788 - acc: 0.9782 - val_loss: 0.4031 - val_acc: 0.8683\n",
            "Epoch 19/20\n",
            "49/49 [==============================] - 1s 23ms/step - loss: 0.0731 - acc: 0.9801 - val_loss: 0.4215 - val_acc: 0.8650\n",
            "Epoch 20/20\n",
            "49/49 [==============================] - 1s 21ms/step - loss: 0.0689 - acc: 0.9816 - val_loss: 0.4335 - val_acc: 0.8648\n"
          ]
        }
      ]
    },
    {
      "cell_type": "code",
      "metadata": {
        "id": "MO4wAl6vxfkK"
      },
      "source": [
        "epochs = range(1, 21)\n",
        "original_val_loss = original_hist.history['val_loss']\n",
        "smaller_model_val_loss = smaller_model_hist.history['val_loss']"
      ],
      "execution_count": 7,
      "outputs": []
    },
    {
      "cell_type": "code",
      "metadata": {
        "id": "sMwMLtKixfkZ",
        "colab": {
          "base_uri": "https://localhost:8080/",
          "height": 279
        },
        "outputId": "8e07fdd5-5f6a-41e7-8f6c-e3d77a588db8"
      },
      "source": [
        "import matplotlib.pyplot as plt\n",
        "\n",
        "# b+ is for \"blue cross\"\n",
        "plt.plot(epochs, original_val_loss, 'b+', label='Original model')\n",
        "# \"bo\" is for \"blue dot\"\n",
        "plt.plot(epochs, smaller_model_val_loss, 'bo', label='Smaller model')\n",
        "plt.xlabel('Epochs')\n",
        "plt.ylabel('Validation loss')\n",
        "plt.legend()\n",
        "\n",
        "plt.show()"
      ],
      "execution_count": 8,
      "outputs": [
        {
          "output_type": "display_data",
          "data": {
            "text/plain": [
              "<Figure size 432x288 with 1 Axes>"
            ],
            "image/png": "[encoded data removed]"
          },
          "metadata": {
            "needs_background": "light"
          }
        }
      ]
    },
    {
      "cell_type": "markdown",
      "metadata": {
        "id": "vDFM_HD7xfkh"
      },
      "source": [
        "\n",
        "As you can see, the smaller network starts overfitting later than the reference one (after 6 epochs rather than 4) and its performance \n",
        "degrades much more slowly once it starts overfitting.\n",
        "\n",
        "Now, for kicks, let's add to this benchmark a network that has much more capacity, far more than the problem would warrant:"
      ]
    },
    {
      "cell_type": "code",
      "metadata": {
        "id": "d-veufWWxfki"
      },
      "source": [
        "bigger_model = models.Sequential()\n",
        "bigger_model.add(layers.Dense(512, activation='relu', input_shape=(10000,)))\n",
        "bigger_model.add(layers.Dense(512, activation='relu'))\n",
        "bigger_model.add(layers.Dense(1, activation='sigmoid'))\n",
        "\n",
        "bigger_model.compile(optimizer='rmsprop',\n",
        "                     loss='binary_crossentropy',\n",
        "                     metrics=['acc'])"
      ],
      "execution_count": 9,
      "outputs": []
    },
    {
      "cell_type": "code",
      "metadata": {
        "id": "IYateoBzxfkx",
        "colab": {
          "base_uri": "https://localhost:8080/"
        },
        "outputId": "ab56c531-0473-4993-f481-e2f0bef6502c"
      },
      "source": [
        "bigger_model_hist = bigger_model.fit(x_train, y_train,\n",
        "                                     epochs=20,\n",
        "                                     batch_size=512,\n",
        "                                     validation_data=(x_test, y_test))"
      ],
      "execution_count": 10,
      "outputs": [
        {
          "output_type": "stream",
          "name": "stdout",
          "text": [
            "Epoch 1/20\n",
            "49/49 [==============================] - 5s 86ms/step - loss: 0.4782 - acc: 0.7904 - val_loss: 0.3649 - val_acc: 0.8382\n",
            "Epoch 2/20\n",
            "49/49 [==============================] - 1s 29ms/step - loss: 0.2300 - acc: 0.9101 - val_loss: 0.3132 - val_acc: 0.8722\n",
            "Epoch 3/20\n",
            "49/49 [==============================] - 1s 28ms/step - loss: 0.1394 - acc: 0.9477 - val_loss: 0.3253 - val_acc: 0.8845\n",
            "Epoch 4/20\n",
            "49/49 [==============================] - 1s 27ms/step - loss: 0.0637 - acc: 0.9783 - val_loss: 0.4217 - val_acc: 0.8832\n",
            "Epoch 5/20\n",
            "49/49 [==============================] - 1s 26ms/step - loss: 0.0385 - acc: 0.9899 - val_loss: 0.5599 - val_acc: 0.8792\n",
            "Epoch 6/20\n",
            "49/49 [==============================] - 1s 26ms/step - loss: 0.0019 - acc: 0.9996 - val_loss: 0.8804 - val_acc: 0.8638\n",
            "Epoch 7/20\n",
            "49/49 [==============================] - 1s 26ms/step - loss: 0.1030 - acc: 0.9898 - val_loss: 0.7021 - val_acc: 0.8781\n",
            "Epoch 8/20\n",
            "49/49 [==============================] - 1s 26ms/step - loss: 1.5587e-04 - acc: 1.0000 - val_loss: 0.9067 - val_acc: 0.8772\n",
            "Epoch 9/20\n",
            "49/49 [==============================] - 1s 26ms/step - loss: 1.5602e-05 - acc: 1.0000 - val_loss: 1.1264 - val_acc: 0.8752\n",
            "Epoch 10/20\n",
            "49/49 [==============================] - 1s 26ms/step - loss: 1.4887e-06 - acc: 1.0000 - val_loss: 1.2427 - val_acc: 0.8735\n",
            "Epoch 11/20\n",
            "49/49 [==============================] - 1s 26ms/step - loss: 0.2415 - acc: 0.9890 - val_loss: 0.9018 - val_acc: 0.8768\n",
            "Epoch 12/20\n",
            "49/49 [==============================] - 1s 26ms/step - loss: 5.1368e-06 - acc: 1.0000 - val_loss: 0.9318 - val_acc: 0.8774\n",
            "Epoch 13/20\n",
            "49/49 [==============================] - 1s 26ms/step - loss: 2.7330e-06 - acc: 1.0000 - val_loss: 1.0075 - val_acc: 0.8777\n",
            "Epoch 14/20\n",
            "49/49 [==============================] - 1s 26ms/step - loss: 9.5518e-07 - acc: 1.0000 - val_loss: 1.1585 - val_acc: 0.8785\n",
            "Epoch 15/20\n",
            "49/49 [==============================] - 1s 26ms/step - loss: 2.0952e-07 - acc: 1.0000 - val_loss: 1.3161 - val_acc: 0.8789\n",
            "Epoch 16/20\n",
            "49/49 [==============================] - 1s 26ms/step - loss: 5.4562e-08 - acc: 1.0000 - val_loss: 1.3972 - val_acc: 0.8786\n",
            "Epoch 17/20\n",
            "49/49 [==============================] - 1s 26ms/step - loss: 2.2154e-08 - acc: 1.0000 - val_loss: 1.4486 - val_acc: 0.8788\n",
            "Epoch 18/20\n",
            "49/49 [==============================] - 1s 26ms/step - loss: 1.3350e-08 - acc: 1.0000 - val_loss: 1.4856 - val_acc: 0.8788\n",
            "Epoch 19/20\n",
            "49/49 [==============================] - 1s 26ms/step - loss: 9.6132e-09 - acc: 1.0000 - val_loss: 1.5052 - val_acc: 0.8788\n",
            "Epoch 20/20\n",
            "49/49 [==============================] - 1s 26ms/step - loss: 7.5436e-09 - acc: 1.0000 - val_loss: 1.5244 - val_acc: 0.8790\n"
          ]
        }
      ]
    },
    {
      "cell_type": "markdown",
      "metadata": {
        "id": "IoHeqJmsxfk3"
      },
      "source": [
        "Here's how the bigger network fares compared to the reference one. The dots are the validation loss values of the bigger network, and the \n",
        "crosses are the initial network."
      ]
    },
    {
      "cell_type": "code",
      "metadata": {
        "id": "zTsX7QO1xflB",
        "colab": {
          "base_uri": "https://localhost:8080/",
          "height": 279
        },
        "outputId": "277c2503-ce33-4a49-b8bc-ce4873f4857f"
      },
      "source": [
        "bigger_model_val_loss = bigger_model_hist.history['val_loss']\n",
        "\n",
        "plt.plot(epochs, original_val_loss, 'b+', label='Original model')\n",
        "plt.plot(epochs, bigger_model_val_loss, 'bo', label='Bigger model')\n",
        "plt.xlabel('Epochs')\n",
        "plt.ylabel('Validation loss')\n",
        "plt.legend()\n",
        "\n",
        "plt.show()"
      ],
      "execution_count": 11,
      "outputs": [
        {
          "output_type": "display_data",
          "data": {
            "text/plain": [
              "<Figure size 432x288 with 1 Axes>"
            ],
            "image/png": "[encoded data removed]"
          },
          "metadata": {
            "needs_background": "light"
          }
        }
      ]
    },
    {
      "cell_type": "markdown",
      "metadata": {
        "id": "pLkys3XoxflG"
      },
      "source": [
        "\n",
        "The bigger network starts overfitting almost right away, after just one epoch, and overfits much more severely. Its validation loss is also \n",
        "more noisy.\n",
        "\n",
        "Meanwhile, here are the training losses for our two networks:"
      ]
    },
    {
      "cell_type": "code",
      "metadata": {
        "id": "kLbuEEYrxflH",
        "colab": {
          "base_uri": "https://localhost:8080/",
          "height": 282
        },
        "outputId": "2a3b0f7c-ee02-4816-8a0b-61b693686e6e"
      },
      "source": [
        "original_train_loss = original_hist.history['loss']\n",
        "bigger_model_train_loss = bigger_model_hist.history['loss']\n",
        "\n",
        "plt.plot(epochs, original_train_loss, 'b+', label='Original model')\n",
        "plt.plot(epochs, bigger_model_train_loss, 'bo', label='Bigger model')\n",
        "plt.xlabel('Epochs')\n",
        "plt.ylabel('Training loss')\n",
        "plt.legend()\n",
        "\n",
        "plt.show()"
      ],
      "execution_count": 12,
      "outputs": [
        {
          "output_type": "display_data",
          "data": {
            "text/plain": [
              "<Figure size 432x288 with 1 Axes>"
            ],
            "image/png": "[encoded data removed]"
          },
          "metadata": {
            "needs_background": "light"
          }
        }
      ]
    },
    {
      "cell_type": "markdown",
      "metadata": {
        "id": "Ft2IlS6HxflO"
      },
      "source": [
        "As you can see, the bigger network gets its training loss near zero very quickly. The more capacity the network has, the quicker it will be \n",
        "able to model the training data (resulting in a low training loss), but the more susceptible it is to overfitting (resulting in a large \n",
        "difference between the training and validation loss)."
      ]
    },
    {
      "cell_type": "markdown",
      "metadata": {
        "id": "feE5mYLxxflV"
      },
      "source": [
        "## Adding weight regularization\n",
        "\n",
        "\n",
        "You may be familiar with _Occam's Razor_ principle: given two explanations for something, the explanation most likely to be correct is the \n",
        "\"simplest\" one, the one that makes the least amount of assumptions. This also applies to the models learned by neural networks: given some \n",
        "training data and a network architecture, there are multiple sets of weights values (multiple _models_) that could explain the data, and \n",
        "simpler models are less likely to overfit than complex ones.\n",
        "\n",
        "A \"simple model\" in this context is a model where the distribution of parameter values has less entropy (or a model with fewer \n",
        "parameters altogether, as we saw in the section above). Thus a common way to mitigate overfitting is to put constraints on the complexity \n",
        "of a network by forcing its weights to only take small values, which makes the distribution of weight values more \"regular\". This is called \n",
        "\"weight regularization\", and it is done by adding to the loss function of the network a _cost_ associated with having large weights. This \n",
        "cost comes in two flavors:\n",
        "\n",
        "* L1 regularization, where the cost added is proportional to the _absolute value of the weights coefficients_ (i.e. to what is called the \n",
        "\"L1 norm\" of the weights).\n",
        "* L2 regularization, where the cost added is proportional to the _square of the value of the weights coefficients_ (i.e. to what is called \n",
        "the \"L2 norm\" of the weights). L2 regularization is also called _weight decay_ in the context of neural networks. Don't let the different \n",
        "name confuse you: weight decay is mathematically the exact same as L2 regularization.\n",
        "\n",
        "In Keras, weight regularization is added by passing _weight regularizer instances_ to layers as keyword arguments. Let's add L2 weight \n",
        "regularization to our movie review classification network:"
      ]
    },
    {
      "cell_type": "markdown",
      "source": [
        "### System RAM Management"
      ],
      "metadata": {
        "id": "658GvReSJLqO"
      }
    },
    {
      "cell_type": "code",
      "source": [
        "del bigger_model_hist"
      ],
      "metadata": {
        "id": "44sV66g7HLiw"
      },
      "execution_count": 15,
      "outputs": []
    },
    {
      "cell_type": "code",
      "source": [
        "del smaller_model"
      ],
      "metadata": {
        "id": "ny6h01RoH2p_"
      },
      "execution_count": 20,
      "outputs": []
    },
    {
      "cell_type": "code",
      "source": [
        "del original_hist"
      ],
      "metadata": {
        "id": "1RelYyU2IAf0"
      },
      "execution_count": 23,
      "outputs": []
    },
    {
      "cell_type": "code",
      "source": [
        "del bigger_model"
      ],
      "metadata": {
        "id": "MZDl8AwHIKxU"
      },
      "execution_count": 24,
      "outputs": []
    },
    {
      "cell_type": "code",
      "source": [
        "del original_model"
      ],
      "metadata": {
        "id": "zC-hJSMtIT4R"
      },
      "execution_count": 26,
      "outputs": []
    },
    {
      "cell_type": "code",
      "source": [
        "del smaller_model_hist"
      ],
      "metadata": {
        "id": "qGz0FlOeIWFo"
      },
      "execution_count": 27,
      "outputs": []
    },
    {
      "cell_type": "code",
      "source": [
        "import gc\n",
        "gc.collect()"
      ],
      "metadata": {
        "id": "LNWAujSCId1L",
        "outputId": "5763f800-f55a-41d1-8127-958bd2a5a24b",
        "colab": {
          "base_uri": "https://localhost:8080/"
        }
      },
      "execution_count": 28,
      "outputs": [
        {
          "output_type": "execute_result",
          "data": {
            "text/plain": [
              "12505"
            ]
          },
          "metadata": {},
          "execution_count": 28
        }
      ]
    },
    {
      "cell_type": "markdown",
      "source": [
        "### Implement"
      ],
      "metadata": {
        "id": "-8Tx29e9JVm3"
      }
    },
    {
      "cell_type": "code",
      "metadata": {
        "id": "S1dBmQFgxflV"
      },
      "source": [
        "from keras import regularizers\n",
        "\n",
        "l2_model = models.Sequential()\n",
        "l2_model.add(layers.Dense(16, kernel_regularizer=regularizers.l2(0.001),\n",
        "                          activation='relu', input_shape=(10000,)))\n",
        "l2_model.add(layers.Dense(16, kernel_regularizer=regularizers.l2(0.001),\n",
        "                          activation='relu'))\n",
        "l2_model.add(layers.Dense(1, activation='sigmoid'))"
      ],
      "execution_count": 30,
      "outputs": []
    },
    {
      "cell_type": "code",
      "metadata": {
        "id": "Jo1bCewcxfld"
      },
      "source": [
        "l2_model.compile(optimizer='rmsprop',\n",
        "                 loss='binary_crossentropy',\n",
        "                 metrics=['acc'])"
      ],
      "execution_count": 31,
      "outputs": []
    },
    {
      "cell_type": "markdown",
      "metadata": {
        "id": "he5asbWFxflr"
      },
      "source": [
        "`l2(0.001)` means that every coefficient in the weight matrix of the layer will add `0.001 * weight_coefficient_value` to the total loss of \n",
        "the network. Note that because this penalty is _only added at training time_, the loss for this network will be much higher at training \n",
        "than at test time.\n",
        "\n",
        "Here's the impact of our L2 regularization penalty:"
      ]
    },
    {
      "cell_type": "code",
      "metadata": {
        "id": "rXby7ui0xfls",
        "colab": {
          "base_uri": "https://localhost:8080/"
        },
        "outputId": "429cc35b-8751-4064-ec30-42c84d36fa10"
      },
      "source": [
        "l2_model_hist = l2_model.fit(x_train, y_train,\n",
        "                             epochs=20,\n",
        "                             batch_size=512,\n",
        "                             validation_data=(x_test, y_test))"
      ],
      "execution_count": 32,
      "outputs": [
        {
          "output_type": "stream",
          "name": "stdout",
          "text": [
            "Epoch 1/20\n",
            "49/49 [==============================] - 3s 45ms/step - loss: 0.4883 - acc: 0.8192 - val_loss: 0.3726 - val_acc: 0.8840\n",
            "Epoch 2/20\n",
            "49/49 [==============================] - 1s 25ms/step - loss: 0.3125 - acc: 0.9052 - val_loss: 0.3348 - val_acc: 0.8876\n",
            "Epoch 3/20\n",
            "49/49 [==============================] - 2s 39ms/step - loss: 0.2714 - acc: 0.9183 - val_loss: 0.3283 - val_acc: 0.8892\n",
            "Epoch 4/20\n",
            "49/49 [==============================] - 1s 25ms/step - loss: 0.2472 - acc: 0.9280 - val_loss: 0.3357 - val_acc: 0.8862\n",
            "Epoch 5/20\n",
            "49/49 [==============================] - 2s 38ms/step - loss: 0.2374 - acc: 0.9321 - val_loss: 0.3404 - val_acc: 0.8838\n",
            "Epoch 6/20\n",
            "49/49 [==============================] - 1s 24ms/step - loss: 0.2296 - acc: 0.9356 - val_loss: 0.3513 - val_acc: 0.8805\n",
            "Epoch 7/20\n",
            "49/49 [==============================] - 1s 23ms/step - loss: 0.2242 - acc: 0.9366 - val_loss: 0.3579 - val_acc: 0.8786\n",
            "Epoch 8/20\n",
            "49/49 [==============================] - 1s 26ms/step - loss: 0.2186 - acc: 0.9396 - val_loss: 0.3748 - val_acc: 0.8745\n",
            "Epoch 9/20\n",
            "49/49 [==============================] - 1s 26ms/step - loss: 0.2128 - acc: 0.9417 - val_loss: 0.3997 - val_acc: 0.8664\n",
            "Epoch 10/20\n",
            "49/49 [==============================] - 1s 26ms/step - loss: 0.2105 - acc: 0.9442 - val_loss: 0.3740 - val_acc: 0.8753\n",
            "Epoch 11/20\n",
            "49/49 [==============================] - 1s 23ms/step - loss: 0.2059 - acc: 0.9454 - val_loss: 0.4070 - val_acc: 0.8658\n",
            "Epoch 12/20\n",
            "49/49 [==============================] - 1s 23ms/step - loss: 0.2055 - acc: 0.9458 - val_loss: 0.4456 - val_acc: 0.8597\n",
            "Epoch 13/20\n",
            "49/49 [==============================] - 1s 23ms/step - loss: 0.2013 - acc: 0.9461 - val_loss: 0.3998 - val_acc: 0.8714\n",
            "Epoch 14/20\n",
            "49/49 [==============================] - 1s 23ms/step - loss: 0.2032 - acc: 0.9446 - val_loss: 0.4057 - val_acc: 0.8694\n",
            "Epoch 15/20\n",
            "49/49 [==============================] - 1s 23ms/step - loss: 0.1973 - acc: 0.9474 - val_loss: 0.4145 - val_acc: 0.8672\n",
            "Epoch 16/20\n",
            "49/49 [==============================] - 1s 23ms/step - loss: 0.1960 - acc: 0.9488 - val_loss: 0.4168 - val_acc: 0.8682\n",
            "Epoch 17/20\n",
            "49/49 [==============================] - 1s 23ms/step - loss: 0.1955 - acc: 0.9492 - val_loss: 0.4056 - val_acc: 0.8700\n",
            "Epoch 18/20\n",
            "49/49 [==============================] - 1s 23ms/step - loss: 0.1857 - acc: 0.9549 - val_loss: 0.5005 - val_acc: 0.8428\n",
            "Epoch 19/20\n",
            "49/49 [==============================] - 1s 23ms/step - loss: 0.1878 - acc: 0.9527 - val_loss: 0.4685 - val_acc: 0.8596\n",
            "Epoch 20/20\n",
            "49/49 [==============================] - 1s 23ms/step - loss: 0.1872 - acc: 0.9523 - val_loss: 0.4530 - val_acc: 0.8579\n"
          ]
        }
      ]
    },
    {
      "cell_type": "code",
      "metadata": {
        "id": "NcyFqi2Ixfl5",
        "colab": {
          "base_uri": "https://localhost:8080/",
          "height": 279
        },
        "outputId": "0a9fa23b-dc9d-4307-d868-ff025a818b15"
      },
      "source": [
        "l2_model_val_loss = l2_model_hist.history['val_loss']\n",
        "\n",
        "plt.plot(epochs, original_val_loss, 'b+', label='Original model')\n",
        "plt.plot(epochs, l2_model_val_loss, 'bo', label='L2-regularized model')\n",
        "plt.xlabel('Epochs')\n",
        "plt.ylabel('Validation loss')\n",
        "plt.legend()\n",
        "\n",
        "plt.show()"
      ],
      "execution_count": 33,
      "outputs": [
        {
          "output_type": "display_data",
          "data": {
            "text/plain": [
              "<Figure size 432x288 with 1 Axes>"
            ],
            "image/png": "[encoded data removed]"
          },
          "metadata": {
            "needs_background": "light"
          }
        }
      ]
    },
    {
      "cell_type": "markdown",
      "metadata": {
        "id": "tCi3RwhsxfmF"
      },
      "source": [
        "\n",
        "\n",
        "As you can see, the model with L2 regularization (dots) has become much more resistant to overfitting than the reference model (crosses), \n",
        "even though both models have the same number of parameters.\n",
        "\n",
        "As alternatives to L2 regularization, you could use one of the following Keras weight regularizers:"
      ]
    },
    {
      "cell_type": "code",
      "metadata": {
        "id": "jv4Q9pFpxfmG",
        "colab": {
          "base_uri": "https://localhost:8080/"
        },
        "outputId": "132cde68-87c2-4f44-8101-bdc310a84954"
      },
      "source": [
        "from keras import regularizers\n",
        "\n",
        "# L1 regularization\n",
        "regularizers.l1(0.001)\n",
        "\n",
        "# L1 and L2 regularization at the same time\n",
        "regularizers.l1_l2(l1=0.001, l2=0.001)"
      ],
      "execution_count": 34,
      "outputs": [
        {
          "output_type": "execute_result",
          "data": {
            "text/plain": [
              "<keras.regularizers.L1L2 at 0x7fa61335d5d0>"
            ]
          },
          "metadata": {},
          "execution_count": 34
        }
      ]
    },
    {
      "cell_type": "markdown",
      "metadata": {
        "id": "Xc9vjhgMxfnT"
      },
      "source": [
        "To recap: here the most common ways to prevent overfitting in neural networks:\n",
        "\n",
        "* Getting more training data.\n",
        "* Reducing the capacity of the network.\n",
        "* Adding weight regularization.\n",
        "* Adding dropout."
      ]
    },
    {
      "cell_type": "markdown",
      "metadata": {
        "id": "jqUDFS-L32Au"
      },
      "source": [
        "**Contact** : [FarrokhKarimi](https://zil.ink/farrokhkarimi)  \n",
        "**Reference** : [tensorflow.com](https://www.tensorflow.org/)  \n",
        "Special thanks to [François Chollet](https://fchollet.com/)"
      ]
    }
  ]
}