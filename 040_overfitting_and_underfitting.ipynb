{
  "nbformat": 4,
  "nbformat_minor": 0,
  "metadata": {
    "kernelspec": {
      "display_name": "Python 3",
      "language": "python",
      "name": "python3"
    },
    "language_info": {
      "codemirror_mode": {
        "name": "ipython",
        "version": 3
      },
      "file_extension": ".py",
      "mimetype": "text/x-python",
      "name": "python",
      "nbconvert_exporter": "python",
      "pygments_lexer": "ipython3",
      "version": "3.5.2"
    },
    "colab": {
      "name": "4.4-overfitting-and-underfitting.ipynb",
      "provenance": [],
      "toc_visible": true
    },
    "accelerator": "GPU",
    "gpuClass": "standard"
  },
  "cells": [
    {
      "cell_type": "markdown",
      "metadata": {
        "id": "9FfP8SmrxoJ1"
      },
      "source": [
        "# Overfitting and Underfitting\n",
        "\n",
        "**Author:** [FarrokhKarimi](https://github.com/farrokhkarimi)  \n",
        "**Note:** For this notebook the best runtime type is GPU"
      ]
    },
    {
      "cell_type": "code",
      "metadata": {
        "id": "Wbm06nM1xfi_",
        "colab": {
          "base_uri": "https://localhost:8080/",
          "height": 36
        },
        "outputId": "06cb5bb1-adce-494f-fb09-121094024ce3"
      },
      "source": [
        "import keras\n",
        "keras.__version__"
      ],
      "execution_count": 1,
      "outputs": [
        {
          "output_type": "execute_result",
          "data": {
            "text/plain": [
              "'2.8.0'"
            ],
            "application/vnd.google.colaboratory.intrinsic+json": {
              "type": "string"
            }
          },
          "metadata": {},
          "execution_count": 1
        }
      ]
    },
    {
      "cell_type": "markdown",
      "metadata": {
        "id": "zKaJE-JLxfjS"
      },
      "source": [
        "# Overfitting and underfitting\n",
        "\n",
        "In all the examples we saw in the previous chapter -- movie review sentiment prediction, topic classification, and house price regression -- \n",
        "we could notice that the performance of our model on the held-out validation data would always peak after a few epochs and would then start \n",
        "degrading, i.e. our model would quickly start to _overfit_ to the training data. Overfitting happens in every single machine learning \n",
        "problem. Learning how to deal with overfitting is essential to mastering machine learning.\n",
        "\n",
        "The fundamental issue in machine learning is the tension between optimization and generalization. \"**Optimization**\" refers to the process of \n",
        "adjusting a model to get the best performance possible on the training data (the \"learning\" in \"machine learning\"), while \"**generalization**\" \n",
        "refers to how well the trained model would perform on data it has never seen before. The goal of the game is to get good generalization, of \n",
        "course, but you do not control generalization; you can only adjust the model based on its training data.\n",
        "\n",
        "At the beginning of training, optimization and generalization are correlated: the lower your loss on training data, the lower your loss on \n",
        "test data. While this is happening, your model is said to be _under-fit_: there is still progress to be made; the network hasn't yet \n",
        "modeled all relevant patterns in the training data. But after a certain number of iterations on the training data, generalization stops \n",
        "improving, validation metrics stall then start degrading: the model is then starting to over-fit, i.e. is it starting to learn patterns \n",
        "that are specific to the training data but that are misleading or irrelevant when it comes to new data.\n",
        "\n",
        "To prevent a model from learning misleading or irrelevant patterns found in the training data, _the best solution is of course to get \n",
        "more training data_. A model trained on more data will naturally generalize better. When that is no longer possible, the next best solution \n",
        "is to modulate the quantity of information that your model is allowed to store, or to add constraints on what information it is allowed to \n",
        "store. If a network can only afford to memorize a small number of patterns, the optimization process will force it to focus on the most \n",
        "prominent patterns, which have a better chance of generalizing well.\n",
        "\n",
        "The processing of fighting overfitting in this way is called _**regularization**_. Let's review some of the most common regularization \n",
        "techniques, and let's apply them in practice to improve our movie classification model from  the previous chapter."
      ]
    },
    {
      "cell_type": "markdown",
      "metadata": {
        "id": "lkiQBbDYxfjU"
      },
      "source": [
        "Note: in this notebook we will be using the IMDB test set as our validation set. It doesn't matter in this context."
      ]
    },
    {
      "cell_type": "code",
      "metadata": {
        "id": "TqBTqIrFxfjV"
      },
      "source": [
        "from keras.datasets import imdb\n",
        "import numpy as np\n",
        "\n",
        "(train_data, train_labels), (test_data, test_labels) = imdb.load_data(num_words=10000)\n",
        "\n",
        "def vectorize_sequences(sequences, dimension=10000):\n",
        "    # Create an all-zero matrix of shape (len(sequences), dimension)\n",
        "    results = np.zeros((len(sequences), dimension))\n",
        "    for i, sequence in enumerate(sequences):\n",
        "        results[i, sequence] = 1.  # set specific indices of results[i] to 1s\n",
        "    return results\n",
        "\n",
        "# Our vectorized training data\n",
        "x_train = vectorize_sequences(train_data)\n",
        "# Our vectorized test data\n",
        "x_test = vectorize_sequences(test_data)\n",
        "# Our vectorized labels\n",
        "y_train = np.asarray(train_labels).astype('float32')\n",
        "y_test = np.asarray(test_labels).astype('float32')"
      ],
      "execution_count": 2,
      "outputs": []
    },
    {
      "cell_type": "markdown",
      "metadata": {
        "id": "I3M7dJ7Hxfjd"
      },
      "source": [
        "# Fighting overfitting\n",
        "\n",
        "## Reducing the network's size\n",
        "\n",
        "\n",
        "The simplest way to prevent overfitting is to reduce the size of the model, i.e. the number of learnable parameters in the model (which is \n",
        "determined by the number of layers and the number of units per layer). In deep learning, the number of learnable parameters in a model is \n",
        "often referred to as the model's \"capacity\". Intuitively, a model with more parameters will have more \"memorization capacity\" and therefore \n",
        "will be able to easily learn a perfect dictionary-like mapping between training samples and their targets, a mapping without any \n",
        "generalization power. For instance, a model with 500,000 binary parameters could easily be made to learn the class of every digits in the \n",
        "MNIST training set: we would only need 10 binary parameters for each of the 50,000 digits. Such a model would be useless for classifying \n",
        "new digit samples. Always keep this in mind: deep learning models tend to be good at fitting to the training data, but the real challenge \n",
        "is generalization, not fitting.\n",
        "\n",
        "On the other hand, if the network has limited memorization resources, it will not be able to learn this mapping as easily, and thus, in \n",
        "order to minimize its loss, it will have to resort to learning compressed representations that have predictive power regarding the targets \n",
        "-- precisely the type of representations that we are interested in. At the same time, keep in mind that you should be using models that have \n",
        "enough parameters that they won't be underfitting: your model shouldn't be starved for memorization resources. There is a compromise to be \n",
        "found between \"too much capacity\" and \"not enough capacity\".\n",
        "\n",
        "Unfortunately, there is no magical formula to determine what the right number of layers is, or what the right size for each layer is. You \n",
        "will have to evaluate an array of different architectures (on your validation set, not on your test set, of course) in order to find the \n",
        "right model size for your data. The general workflow to find an appropriate model size is to start with relatively few layers and \n",
        "parameters, and start increasing the size of the layers or adding new layers until you see diminishing returns with regard to the \n",
        "validation loss.\n",
        "\n",
        "Let's try this on our movie review classification network. Our original network was as such:"
      ]
    },
    {
      "cell_type": "code",
      "metadata": {
        "id": "kXwuNUuKxfje"
      },
      "source": [
        "from keras import models\n",
        "from keras import layers\n",
        "\n",
        "original_model = models.Sequential()\n",
        "original_model.add(layers.Dense(16, activation='relu', input_shape=(10000,)))\n",
        "original_model.add(layers.Dense(16, activation='relu'))\n",
        "original_model.add(layers.Dense(1, activation='sigmoid'))\n",
        "\n",
        "original_model.compile(optimizer='rmsprop',\n",
        "                       loss='binary_crossentropy',\n",
        "                       metrics=['acc'])"
      ],
      "execution_count": 3,
      "outputs": []
    },
    {
      "cell_type": "markdown",
      "metadata": {
        "id": "BtPTAocoxfjj"
      },
      "source": [
        "Now let's try to replace it with this smaller network:"
      ]
    },
    {
      "cell_type": "code",
      "metadata": {
        "id": "PVzmnxXixfjn"
      },
      "source": [
        "smaller_model = models.Sequential()\n",
        "smaller_model.add(layers.Dense(4, activation='relu', input_shape=(10000,)))\n",
        "smaller_model.add(layers.Dense(4, activation='relu'))\n",
        "smaller_model.add(layers.Dense(1, activation='sigmoid'))\n",
        "\n",
        "smaller_model.compile(optimizer='rmsprop',\n",
        "                      loss='binary_crossentropy',\n",
        "                      metrics=['acc'])"
      ],
      "execution_count": 4,
      "outputs": []
    },
    {
      "cell_type": "markdown",
      "metadata": {
        "id": "u2B4WEhTxfjy"
      },
      "source": [
        "\n",
        "Here's a comparison of the validation losses of the original network and the smaller network. The dots are the validation loss values of \n",
        "the smaller network, and the crosses are the initial network (remember: a lower validation loss signals a better model)."
      ]
    },
    {
      "cell_type": "code",
      "metadata": {
        "id": "1rmj9ucgxfjz",
        "colab": {
          "base_uri": "https://localhost:8080/"
        },
        "outputId": "b0531f85-1243-4429-e44b-e7536a9ab53d"
      },
      "source": [
        "original_hist = original_model.fit(x_train, y_train,\n",
        "                                   epochs=20,\n",
        "                                   batch_size=512,\n",
        "                                   validation_data=(x_test, y_test))"
      ],
      "execution_count": 5,
      "outputs": [
        {
          "output_type": "stream",
          "name": "stdout",
          "text": [
            "Epoch 1/20\n",
            "49/49 [==============================] - 6s 72ms/step - loss: 0.4468 - acc: 0.8220 - val_loss: 0.3366 - val_acc: 0.8794\n",
            "Epoch 2/20\n",
            "49/49 [==============================] - 1s 24ms/step - loss: 0.2598 - acc: 0.9092 - val_loss: 0.2832 - val_acc: 0.8896\n",
            "Epoch 3/20\n",
            "49/49 [==============================] - 1s 29ms/step - loss: 0.2008 - acc: 0.9284 - val_loss: 0.2799 - val_acc: 0.8896\n",
            "Epoch 4/20\n",
            "49/49 [==============================] - 1s 31ms/step - loss: 0.1660 - acc: 0.9407 - val_loss: 0.2914 - val_acc: 0.8854\n",
            "Epoch 5/20\n",
            "49/49 [==============================] - 2s 32ms/step - loss: 0.1455 - acc: 0.9492 - val_loss: 0.3080 - val_acc: 0.8814\n",
            "Epoch 6/20\n",
            "49/49 [==============================] - 1s 30ms/step - loss: 0.1240 - acc: 0.9573 - val_loss: 0.3283 - val_acc: 0.8762\n",
            "Epoch 7/20\n",
            "49/49 [==============================] - 1s 26ms/step - loss: 0.1063 - acc: 0.9638 - val_loss: 0.3530 - val_acc: 0.8721\n",
            "Epoch 8/20\n",
            "49/49 [==============================] - 1s 30ms/step - loss: 0.0929 - acc: 0.9694 - val_loss: 0.4235 - val_acc: 0.8615\n",
            "Epoch 9/20\n",
            "49/49 [==============================] - 1s 28ms/step - loss: 0.0796 - acc: 0.9745 - val_loss: 0.4051 - val_acc: 0.8689\n",
            "Epoch 10/20\n",
            "49/49 [==============================] - 1s 28ms/step - loss: 0.0686 - acc: 0.9788 - val_loss: 0.4616 - val_acc: 0.8620\n",
            "Epoch 11/20\n",
            "49/49 [==============================] - 1s 25ms/step - loss: 0.0589 - acc: 0.9826 - val_loss: 0.4783 - val_acc: 0.8598\n",
            "Epoch 12/20\n",
            "49/49 [==============================] - 1s 28ms/step - loss: 0.0504 - acc: 0.9848 - val_loss: 0.5171 - val_acc: 0.8579\n",
            "Epoch 13/20\n",
            "49/49 [==============================] - 1s 29ms/step - loss: 0.0394 - acc: 0.9892 - val_loss: 0.5463 - val_acc: 0.8564\n",
            "Epoch 14/20\n",
            "49/49 [==============================] - 1s 27ms/step - loss: 0.0337 - acc: 0.9908 - val_loss: 0.5694 - val_acc: 0.8599\n",
            "Epoch 15/20\n",
            "49/49 [==============================] - 1s 24ms/step - loss: 0.0285 - acc: 0.9929 - val_loss: 0.6505 - val_acc: 0.8493\n",
            "Epoch 16/20\n",
            "49/49 [==============================] - 1s 24ms/step - loss: 0.0229 - acc: 0.9944 - val_loss: 0.6419 - val_acc: 0.8562\n",
            "Epoch 17/20\n",
            "49/49 [==============================] - 1s 26ms/step - loss: 0.0172 - acc: 0.9964 - val_loss: 0.6935 - val_acc: 0.8543\n",
            "Epoch 18/20\n",
            "49/49 [==============================] - 1s 30ms/step - loss: 0.0134 - acc: 0.9974 - val_loss: 0.7246 - val_acc: 0.8540\n",
            "Epoch 19/20\n",
            "49/49 [==============================] - 1s 30ms/step - loss: 0.0114 - acc: 0.9977 - val_loss: 0.7891 - val_acc: 0.8486\n",
            "Epoch 20/20\n",
            "49/49 [==============================] - 1s 27ms/step - loss: 0.0086 - acc: 0.9983 - val_loss: 0.8322 - val_acc: 0.8488\n"
          ]
        }
      ]
    },
    {
      "cell_type": "code",
      "metadata": {
        "id": "y2KG92-Xxfj7",
        "colab": {
          "base_uri": "https://localhost:8080/"
        },
        "outputId": "c09d7a9f-2659-41c4-9350-b3fcc55cad1a"
      },
      "source": [
        "smaller_model_hist = smaller_model.fit(x_train, y_train,\n",
        "                                       epochs=20,\n",
        "                                       batch_size=512,\n",
        "                                       validation_data=(x_test, y_test))"
      ],
      "execution_count": 6,
      "outputs": [
        {
          "output_type": "stream",
          "name": "stdout",
          "text": [
            "Epoch 1/20\n",
            "49/49 [==============================] - 3s 43ms/step - loss: 0.5812 - acc: 0.7164 - val_loss: 0.5258 - val_acc: 0.7950\n",
            "Epoch 2/20\n",
            "49/49 [==============================] - 1s 24ms/step - loss: 0.4767 - acc: 0.8519 - val_loss: 0.4783 - val_acc: 0.8723\n",
            "Epoch 3/20\n",
            "49/49 [==============================] - 1s 25ms/step - loss: 0.4180 - acc: 0.8957 - val_loss: 0.4333 - val_acc: 0.8687\n",
            "Epoch 4/20\n",
            "49/49 [==============================] - 1s 24ms/step - loss: 0.3500 - acc: 0.9183 - val_loss: 0.3726 - val_acc: 0.8742\n",
            "Epoch 5/20\n",
            "49/49 [==============================] - 1s 24ms/step - loss: 0.2705 - acc: 0.9330 - val_loss: 0.3228 - val_acc: 0.8852\n",
            "Epoch 6/20\n",
            "49/49 [==============================] - 1s 24ms/step - loss: 0.2157 - acc: 0.9422 - val_loss: 0.2993 - val_acc: 0.8860\n",
            "Epoch 7/20\n",
            "49/49 [==============================] - 1s 24ms/step - loss: 0.1809 - acc: 0.9487 - val_loss: 0.2955 - val_acc: 0.8828\n",
            "Epoch 8/20\n",
            "49/49 [==============================] - 1s 25ms/step - loss: 0.1566 - acc: 0.9524 - val_loss: 0.3013 - val_acc: 0.8824\n",
            "Epoch 9/20\n",
            "49/49 [==============================] - 1s 25ms/step - loss: 0.1376 - acc: 0.9561 - val_loss: 0.3152 - val_acc: 0.8821\n",
            "Epoch 10/20\n",
            "49/49 [==============================] - 1s 24ms/step - loss: 0.1239 - acc: 0.9615 - val_loss: 0.3294 - val_acc: 0.8793\n",
            "Epoch 11/20\n",
            "49/49 [==============================] - 1s 24ms/step - loss: 0.1144 - acc: 0.9654 - val_loss: 0.3442 - val_acc: 0.8766\n",
            "Epoch 12/20\n",
            "49/49 [==============================] - 1s 24ms/step - loss: 0.1051 - acc: 0.9704 - val_loss: 0.3592 - val_acc: 0.8738\n",
            "Epoch 13/20\n",
            "49/49 [==============================] - 1s 24ms/step - loss: 0.0984 - acc: 0.9722 - val_loss: 0.3756 - val_acc: 0.8723\n",
            "Epoch 14/20\n",
            "49/49 [==============================] - 1s 24ms/step - loss: 0.0910 - acc: 0.9743 - val_loss: 0.3911 - val_acc: 0.8698\n",
            "Epoch 15/20\n",
            "49/49 [==============================] - 1s 26ms/step - loss: 0.0859 - acc: 0.9754 - val_loss: 0.4114 - val_acc: 0.8659\n",
            "Epoch 16/20\n",
            "49/49 [==============================] - 1s 24ms/step - loss: 0.0800 - acc: 0.9793 - val_loss: 0.4254 - val_acc: 0.8662\n",
            "Epoch 17/20\n",
            "49/49 [==============================] - 1s 24ms/step - loss: 0.0742 - acc: 0.9808 - val_loss: 0.4452 - val_acc: 0.8656\n",
            "Epoch 18/20\n",
            "49/49 [==============================] - 1s 24ms/step - loss: 0.0694 - acc: 0.9830 - val_loss: 0.4618 - val_acc: 0.8621\n",
            "Epoch 19/20\n",
            "49/49 [==============================] - 1s 24ms/step - loss: 0.0648 - acc: 0.9840 - val_loss: 0.4853 - val_acc: 0.8617\n",
            "Epoch 20/20\n",
            "49/49 [==============================] - 1s 24ms/step - loss: 0.0608 - acc: 0.9849 - val_loss: 0.5013 - val_acc: 0.8595\n"
          ]
        }
      ]
    },
    {
      "cell_type": "code",
      "metadata": {
        "id": "MO4wAl6vxfkK"
      },
      "source": [
        "epochs = range(1, 21)\n",
        "original_val_loss = original_hist.history['val_loss']\n",
        "smaller_model_val_loss = smaller_model_hist.history['val_loss']"
      ],
      "execution_count": 7,
      "outputs": []
    },
    {
      "cell_type": "code",
      "metadata": {
        "id": "sMwMLtKixfkZ",
        "colab": {
          "base_uri": "https://localhost:8080/",
          "height": 279
        },
        "outputId": "f9c08d64-3efe-44ae-8459-2e589f6a7fca"
      },
      "source": [
        "import matplotlib.pyplot as plt\n",
        "\n",
        "# b+ is for \"blue cross\"\n",
        "plt.plot(epochs, original_val_loss, 'b+', label='Original model')\n",
        "# \"bo\" is for \"blue dot\"\n",
        "plt.plot(epochs, smaller_model_val_loss, 'bo', label='Smaller model')\n",
        "plt.xlabel('Epochs')\n",
        "plt.ylabel('Validation loss')\n",
        "plt.legend()\n",
        "\n",
        "plt.show()"
      ],
      "execution_count": 8,
      "outputs": [
        {
          "output_type": "display_data",
          "data": {
            "text/plain": [
              "<Figure size 432x288 with 1 Axes>"
            ],
            "image/png": "[encoded data removed]"
          },
          "metadata": {
            "needs_background": "light"
          }
        }
      ]
    },
    {
      "cell_type": "markdown",
      "metadata": {
        "id": "vDFM_HD7xfkh"
      },
      "source": [
        "\n",
        "As you can see, the smaller network starts overfitting later than the reference one (after 6 epochs rather than 4) and its performance \n",
        "degrades much more slowly once it starts overfitting.\n",
        "\n",
        "Now, for kicks, let's add to this benchmark a network that has much more capacity, far more than the problem would warrant:"
      ]
    },
    {
      "cell_type": "code",
      "metadata": {
        "id": "d-veufWWxfki"
      },
      "source": [
        "bigger_model = models.Sequential()\n",
        "bigger_model.add(layers.Dense(512, activation='relu', input_shape=(10000,)))\n",
        "bigger_model.add(layers.Dense(512, activation='relu'))\n",
        "bigger_model.add(layers.Dense(1, activation='sigmoid'))\n",
        "\n",
        "bigger_model.compile(optimizer='rmsprop',\n",
        "                     loss='binary_crossentropy',\n",
        "                     metrics=['acc'])"
      ],
      "execution_count": 9,
      "outputs": []
    },
    {
      "cell_type": "code",
      "metadata": {
        "id": "IYateoBzxfkx",
        "colab": {
          "base_uri": "https://localhost:8080/"
        },
        "outputId": "c9e22405-9bce-41d2-932c-202f5c2e90d7"
      },
      "source": [
        "bigger_model_hist = bigger_model.fit(x_train, y_train,\n",
        "                                     epochs=20,\n",
        "                                     batch_size=512,\n",
        "                                     validation_data=(x_test, y_test))"
      ],
      "execution_count": 10,
      "outputs": [
        {
          "output_type": "stream",
          "name": "stdout",
          "text": [
            "Epoch 1/20\n",
            "49/49 [==============================] - 4s 79ms/step - loss: 0.4529 - acc: 0.7914 - val_loss: 0.3161 - val_acc: 0.8704\n",
            "Epoch 2/20\n",
            "49/49 [==============================] - 1s 30ms/step - loss: 0.2260 - acc: 0.9109 - val_loss: 0.3200 - val_acc: 0.8657\n",
            "Epoch 3/20\n",
            "49/49 [==============================] - 1s 29ms/step - loss: 0.1285 - acc: 0.9519 - val_loss: 0.4507 - val_acc: 0.8290\n",
            "Epoch 4/20\n",
            "49/49 [==============================] - 1s 29ms/step - loss: 0.0610 - acc: 0.9811 - val_loss: 0.4304 - val_acc: 0.8790\n",
            "Epoch 5/20\n",
            "49/49 [==============================] - 1s 30ms/step - loss: 0.0841 - acc: 0.9871 - val_loss: 0.4703 - val_acc: 0.8789\n",
            "Epoch 6/20\n",
            "49/49 [==============================] - 1s 29ms/step - loss: 0.0030 - acc: 0.9996 - val_loss: 1.6322 - val_acc: 0.7598\n",
            "Epoch 7/20\n",
            "49/49 [==============================] - 1s 29ms/step - loss: 0.0791 - acc: 0.9887 - val_loss: 0.6854 - val_acc: 0.8809\n",
            "Epoch 8/20\n",
            "49/49 [==============================] - 1s 29ms/step - loss: 2.3009e-04 - acc: 1.0000 - val_loss: 0.8395 - val_acc: 0.8813\n",
            "Epoch 9/20\n",
            "49/49 [==============================] - 1s 30ms/step - loss: 0.1117 - acc: 0.9934 - val_loss: 3.2852 - val_acc: 0.7300\n",
            "Epoch 10/20\n",
            "49/49 [==============================] - 1s 29ms/step - loss: 0.0158 - acc: 0.9975 - val_loss: 0.8372 - val_acc: 0.8805\n",
            "Epoch 11/20\n",
            "49/49 [==============================] - 1s 28ms/step - loss: 2.0359e-05 - acc: 1.0000 - val_loss: 0.9228 - val_acc: 0.8803\n",
            "Epoch 12/20\n",
            "49/49 [==============================] - 1s 29ms/step - loss: 5.9152e-06 - acc: 1.0000 - val_loss: 1.0637 - val_acc: 0.8797\n",
            "Epoch 13/20\n",
            "49/49 [==============================] - 1s 31ms/step - loss: 1.2157e-06 - acc: 1.0000 - val_loss: 1.2203 - val_acc: 0.8795\n",
            "Epoch 14/20\n",
            "49/49 [==============================] - 1s 28ms/step - loss: 2.2803e-07 - acc: 1.0000 - val_loss: 1.3623 - val_acc: 0.8794\n",
            "Epoch 15/20\n",
            "49/49 [==============================] - 1s 29ms/step - loss: 5.5443e-08 - acc: 1.0000 - val_loss: 1.4554 - val_acc: 0.8793\n",
            "Epoch 16/20\n",
            "49/49 [==============================] - 1s 28ms/step - loss: 2.2924e-08 - acc: 1.0000 - val_loss: 1.5164 - val_acc: 0.8791\n",
            "Epoch 17/20\n",
            "49/49 [==============================] - 1s 30ms/step - loss: 1.3972e-08 - acc: 1.0000 - val_loss: 1.5494 - val_acc: 0.8796\n",
            "Epoch 18/20\n",
            "49/49 [==============================] - 1s 29ms/step - loss: 1.0049e-08 - acc: 1.0000 - val_loss: 1.5722 - val_acc: 0.8794\n",
            "Epoch 19/20\n",
            "49/49 [==============================] - 1s 29ms/step - loss: 7.8737e-09 - acc: 1.0000 - val_loss: 1.5907 - val_acc: 0.8794\n",
            "Epoch 20/20\n",
            "49/49 [==============================] - 1s 30ms/step - loss: 6.4750e-09 - acc: 1.0000 - val_loss: 1.6066 - val_acc: 0.8795\n"
          ]
        }
      ]
    },
    {
      "cell_type": "markdown",
      "metadata": {
        "id": "IoHeqJmsxfk3"
      },
      "source": [
        "Here's how the bigger network fares compared to the reference one. The dots are the validation loss values of the bigger network, and the \n",
        "crosses are the initial network."
      ]
    },
    {
      "cell_type": "code",
      "metadata": {
        "id": "zTsX7QO1xflB",
        "colab": {
          "base_uri": "https://localhost:8080/",
          "height": 279
        },
        "outputId": "468849fb-7ac2-452d-830a-22bad873196c"
      },
      "source": [
        "bigger_model_val_loss = bigger_model_hist.history['val_loss']\n",
        "\n",
        "plt.plot(epochs, original_val_loss, 'b+', label='Original model')\n",
        "plt.plot(epochs, bigger_model_val_loss, 'bo', label='Bigger model')\n",
        "plt.xlabel('Epochs')\n",
        "plt.ylabel('Validation loss')\n",
        "plt.legend()\n",
        "\n",
        "plt.show()"
      ],
      "execution_count": 11,
      "outputs": [
        {
          "output_type": "display_data",
          "data": {
            "text/plain": [
              "<Figure size 432x288 with 1 Axes>"
            ],
            "image/png": "[encoded data removed]"
          },
          "metadata": {
            "needs_background": "light"
          }
        }
      ]
    },
    {
      "cell_type": "markdown",
      "metadata": {
        "id": "pLkys3XoxflG"
      },
      "source": [
        "\n",
        "The bigger network starts overfitting almost right away, after just one epoch, and overfits much more severely. Its validation loss is also \n",
        "more noisy.\n",
        "\n",
        "Meanwhile, here are the training losses for our two networks:"
      ]
    },
    {
      "cell_type": "code",
      "metadata": {
        "id": "kLbuEEYrxflH",
        "colab": {
          "base_uri": "https://localhost:8080/",
          "height": 279
        },
        "outputId": "0357c810-4087-489f-88e5-5ce818227ad5"
      },
      "source": [
        "original_train_loss = original_hist.history['loss']\n",
        "bigger_model_train_loss = bigger_model_hist.history['loss']\n",
        "\n",
        "plt.plot(epochs, original_train_loss, 'b+', label='Original model')\n",
        "plt.plot(epochs, bigger_model_train_loss, 'bo', label='Bigger model')\n",
        "plt.xlabel('Epochs')\n",
        "plt.ylabel('Training loss')\n",
        "plt.legend()\n",
        "\n",
        "plt.show()"
      ],
      "execution_count": 12,
      "outputs": [
        {
          "output_type": "display_data",
          "data": {
            "text/plain": [
              "<Figure size 432x288 with 1 Axes>"
            ],
            "image/png": "[encoded data removed]"
          },
          "metadata": {
            "needs_background": "light"
          }
        }
      ]
    },
    {
      "cell_type": "markdown",
      "metadata": {
        "id": "Ft2IlS6HxflO"
      },
      "source": [
        "As you can see, the bigger network gets its training loss near zero very quickly. The more capacity the network has, the quicker it will be \n",
        "able to model the training data (resulting in a low training loss), but the more susceptible it is to overfitting (resulting in a large \n",
        "difference between the training and validation loss)."
      ]
    },
    {
      "cell_type": "markdown",
      "metadata": {
        "id": "feE5mYLxxflV"
      },
      "source": [
        "## Adding weight regularization\n",
        "\n",
        "\n",
        "You may be familiar with _Occam's Razor_ principle: given two explanations for something, the explanation most likely to be correct is the \n",
        "\"simplest\" one, the one that makes the least amount of assumptions. This also applies to the models learned by neural networks: given some \n",
        "training data and a network architecture, there are multiple sets of weights values (multiple _models_) that could explain the data, and \n",
        "simpler models are less likely to overfit than complex ones.\n",
        "\n",
        "A \"simple model\" in this context is a model where the distribution of parameter values has less entropy (or a model with fewer \n",
        "parameters altogether, as we saw in the section above). Thus a common way to mitigate overfitting is to put constraints on the complexity \n",
        "of a network by forcing its weights to only take small values, which makes the distribution of weight values more \"regular\". This is called \n",
        "\"weight regularization\", and it is done by adding to the loss function of the network a _cost_ associated with having large weights. This \n",
        "cost comes in two flavors:\n",
        "\n",
        "* L1 regularization, where the cost added is proportional to the _absolute value of the weights coefficients_ (i.e. to what is called the \n",
        "\"L1 norm\" of the weights).\n",
        "* L2 regularization, where the cost added is proportional to the _square of the value of the weights coefficients_ (i.e. to what is called \n",
        "the \"L2 norm\" of the weights). L2 regularization is also called _weight decay_ in the context of neural networks. Don't let the different \n",
        "name confuse you: weight decay is mathematically the exact same as L2 regularization.\n",
        "\n",
        "In Keras, weight regularization is added by passing _weight regularizer instances_ to layers as keyword arguments. Let's add L2 weight \n",
        "regularization to our movie review classification network:"
      ]
    },
    {
      "cell_type": "markdown",
      "source": [
        "### System RAM Management"
      ],
      "metadata": {
        "id": "658GvReSJLqO"
      }
    },
    {
      "cell_type": "code",
      "source": [
        "del bigger_model_hist, smaller_model, original_hist,  bigger_model, original_model, smaller_model_hist"
      ],
      "metadata": {
        "id": "44sV66g7HLiw"
      },
      "execution_count": 13,
      "outputs": []
    },
    {
      "cell_type": "code",
      "source": [
        "import gc\n",
        "gc.collect()"
      ],
      "metadata": {
        "id": "LNWAujSCId1L",
        "outputId": "b3150f24-be90-4928-e1c1-def32c849273",
        "colab": {
          "base_uri": "https://localhost:8080/"
        }
      },
      "execution_count": 14,
      "outputs": [
        {
          "output_type": "execute_result",
          "data": {
            "text/plain": [
              "11299"
            ]
          },
          "metadata": {},
          "execution_count": 14
        }
      ]
    },
    {
      "cell_type": "markdown",
      "source": [
        "### Implement"
      ],
      "metadata": {
        "id": "-8Tx29e9JVm3"
      }
    },
    {
      "cell_type": "code",
      "metadata": {
        "id": "S1dBmQFgxflV"
      },
      "source": [
        "from keras import regularizers\n",
        "\n",
        "l2_model = models.Sequential()\n",
        "l2_model.add(layers.Dense(16, kernel_regularizer=regularizers.l2(0.001),\n",
        "                          activation='relu', input_shape=(10000,)))\n",
        "l2_model.add(layers.Dense(16, kernel_regularizer=regularizers.l2(0.001),\n",
        "                          activation='relu'))\n",
        "l2_model.add(layers.Dense(1, activation='sigmoid'))"
      ],
      "execution_count": 15,
      "outputs": []
    },
    {
      "cell_type": "code",
      "metadata": {
        "id": "Jo1bCewcxfld"
      },
      "source": [
        "l2_model.compile(optimizer='rmsprop',\n",
        "                 loss='binary_crossentropy',\n",
        "                 metrics=['acc'])"
      ],
      "execution_count": 16,
      "outputs": []
    },
    {
      "cell_type": "markdown",
      "metadata": {
        "id": "he5asbWFxflr"
      },
      "source": [
        "`l2(0.001)` means that every coefficient in the weight matrix of the layer will add `0.001 * weight_coefficient_value` to the total loss of \n",
        "the network. Note that because this penalty is _only added at training time_, the loss for this network will be much higher at training \n",
        "than at test time.\n",
        "\n",
        "Here's the impact of our L2 regularization penalty:"
      ]
    },
    {
      "cell_type": "code",
      "metadata": {
        "id": "rXby7ui0xfls",
        "colab": {
          "base_uri": "https://localhost:8080/"
        },
        "outputId": "7814935b-5640-478f-a6d2-cc0a0728b43c"
      },
      "source": [
        "l2_model_hist = l2_model.fit(x_train, y_train,\n",
        "                             epochs=20,\n",
        "                             batch_size=512,\n",
        "                             validation_data=(x_test, y_test))"
      ],
      "execution_count": 17,
      "outputs": [
        {
          "output_type": "stream",
          "name": "stdout",
          "text": [
            "Epoch 1/20\n",
            "49/49 [==============================] - 3s 46ms/step - loss: 0.4980 - acc: 0.8222 - val_loss: 0.3884 - val_acc: 0.8755\n",
            "Epoch 2/20\n",
            "49/49 [==============================] - 1s 25ms/step - loss: 0.3174 - acc: 0.9050 - val_loss: 0.3330 - val_acc: 0.8900\n",
            "Epoch 3/20\n",
            "49/49 [==============================] - 1s 25ms/step - loss: 0.2705 - acc: 0.9197 - val_loss: 0.3271 - val_acc: 0.8896\n",
            "Epoch 4/20\n",
            "49/49 [==============================] - 1s 25ms/step - loss: 0.2492 - acc: 0.9273 - val_loss: 0.3392 - val_acc: 0.8842\n",
            "Epoch 5/20\n",
            "49/49 [==============================] - 1s 25ms/step - loss: 0.2363 - acc: 0.9327 - val_loss: 0.3396 - val_acc: 0.8840\n",
            "Epoch 6/20\n",
            "49/49 [==============================] - 1s 25ms/step - loss: 0.2278 - acc: 0.9372 - val_loss: 0.3581 - val_acc: 0.8778\n",
            "Epoch 7/20\n",
            "49/49 [==============================] - 1s 25ms/step - loss: 0.2218 - acc: 0.9396 - val_loss: 0.3694 - val_acc: 0.8742\n",
            "Epoch 8/20\n",
            "49/49 [==============================] - 1s 25ms/step - loss: 0.2137 - acc: 0.9431 - val_loss: 0.3613 - val_acc: 0.8784\n",
            "Epoch 9/20\n",
            "49/49 [==============================] - 1s 26ms/step - loss: 0.2118 - acc: 0.9424 - val_loss: 0.3689 - val_acc: 0.8768\n",
            "Epoch 10/20\n",
            "49/49 [==============================] - 1s 25ms/step - loss: 0.2080 - acc: 0.9429 - val_loss: 0.3742 - val_acc: 0.8750\n",
            "Epoch 11/20\n",
            "49/49 [==============================] - 1s 25ms/step - loss: 0.2050 - acc: 0.9458 - val_loss: 0.3932 - val_acc: 0.8718\n",
            "Epoch 12/20\n",
            "49/49 [==============================] - 1s 25ms/step - loss: 0.2010 - acc: 0.9475 - val_loss: 0.3941 - val_acc: 0.8710\n",
            "Epoch 13/20\n",
            "49/49 [==============================] - 1s 25ms/step - loss: 0.1966 - acc: 0.9494 - val_loss: 0.3925 - val_acc: 0.8714\n",
            "Epoch 14/20\n",
            "49/49 [==============================] - 1s 27ms/step - loss: 0.1957 - acc: 0.9490 - val_loss: 0.4612 - val_acc: 0.8560\n",
            "Epoch 15/20\n",
            "49/49 [==============================] - 1s 25ms/step - loss: 0.1913 - acc: 0.9513 - val_loss: 0.4210 - val_acc: 0.8649\n",
            "Epoch 16/20\n",
            "49/49 [==============================] - 1s 25ms/step - loss: 0.1931 - acc: 0.9500 - val_loss: 0.4044 - val_acc: 0.8700\n",
            "Epoch 17/20\n",
            "49/49 [==============================] - 1s 25ms/step - loss: 0.1915 - acc: 0.9493 - val_loss: 0.4414 - val_acc: 0.8608\n",
            "Epoch 18/20\n",
            "49/49 [==============================] - 1s 25ms/step - loss: 0.1869 - acc: 0.9510 - val_loss: 0.4182 - val_acc: 0.8670\n",
            "Epoch 19/20\n",
            "49/49 [==============================] - 1s 25ms/step - loss: 0.1870 - acc: 0.9518 - val_loss: 0.4249 - val_acc: 0.8656\n",
            "Epoch 20/20\n",
            "49/49 [==============================] - 1s 25ms/step - loss: 0.1821 - acc: 0.9539 - val_loss: 0.4405 - val_acc: 0.8646\n"
          ]
        }
      ]
    },
    {
      "cell_type": "code",
      "metadata": {
        "id": "NcyFqi2Ixfl5",
        "colab": {
          "base_uri": "https://localhost:8080/",
          "height": 279
        },
        "outputId": "ea4ab411-abdc-4261-b3e6-b5cfb3959ed4"
      },
      "source": [
        "l2_model_val_loss = l2_model_hist.history['val_loss']\n",
        "\n",
        "plt.plot(epochs, original_val_loss, 'b+', label='Original model')\n",
        "plt.plot(epochs, l2_model_val_loss, 'bo', label='L2-regularized model')\n",
        "plt.xlabel('Epochs')\n",
        "plt.ylabel('Validation loss')\n",
        "plt.legend()\n",
        "\n",
        "plt.show()"
      ],
      "execution_count": 18,
      "outputs": [
        {
          "output_type": "display_data",
          "data": {
            "text/plain": [
              "<Figure size 432x288 with 1 Axes>"
            ],
            "image/png": "[encoded data removed]"
          },
          "metadata": {
            "needs_background": "light"
          }
        }
      ]
    },
    {
      "cell_type": "markdown",
      "metadata": {
        "id": "tCi3RwhsxfmF"
      },
      "source": [
        "\n",
        "\n",
        "As you can see, the model with L2 regularization (dots) has become much more resistant to overfitting than the reference model (crosses), \n",
        "even though both models have the same number of parameters.\n",
        "\n",
        "As alternatives to L2 regularization, you could use one of the following Keras weight regularizers:"
      ]
    },
    {
      "cell_type": "code",
      "metadata": {
        "id": "jv4Q9pFpxfmG",
        "colab": {
          "base_uri": "https://localhost:8080/"
        },
        "outputId": "602a05b5-af31-4b63-962f-9cba6ac82ae9"
      },
      "source": [
        "from keras import regularizers\n",
        "\n",
        "# L1 regularization\n",
        "regularizers.l1(0.001)\n",
        "\n",
        "# L1 and L2 regularization at the same time\n",
        "regularizers.l1_l2(l1=0.001, l2=0.001)"
      ],
      "execution_count": 19,
      "outputs": [
        {
          "output_type": "execute_result",
          "data": {
            "text/plain": [
              "<keras.regularizers.L1L2 at 0x7f85fca6b7d0>"
            ]
          },
          "metadata": {},
          "execution_count": 19
        }
      ]
    },
    {
      "cell_type": "markdown",
      "metadata": {
        "id": "Xc9vjhgMxfnT"
      },
      "source": [
        "To recap: here the most common ways to prevent overfitting in neural networks:\n",
        "\n",
        "* Getting more training data.\n",
        "* Reducing the capacity of the network.\n",
        "* Adding weight regularization.\n",
        "* Adding dropout."
      ]
    },
    {
      "cell_type": "markdown",
      "metadata": {
        "id": "jqUDFS-L32Au"
      },
      "source": [
        "**Contact** : [FarrokhKarimi](https://zil.ink/farrokhkarimi)  \n",
        "**Reference** : [tensorflow.com](https://www.tensorflow.org/)  \n",
        "Special thanks to [François Chollet](https://fchollet.com/)"
      ]
    }
  ]
}